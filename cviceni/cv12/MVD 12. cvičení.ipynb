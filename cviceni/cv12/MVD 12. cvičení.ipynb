{
 "cells": [
  {
   "cell_type": "markdown",
   "metadata": {},
   "source": [
    "# MVD 12. cvičení\n"
   ]
  },
  {
   "cell_type": "code",
   "execution_count": null,
   "metadata": {},
   "outputs": [],
   "source": [
    "import plotly.express as px\n",
    "import numpy as np\n",
    "import pandas as pd\n",
    "\n",
    "from sklearn.datasets import make_blobs\n",
    "\n",
    "def show_figure(df, color='class'):\n",
    "    fig = px.scatter(df, x=\"x\", y=\"y\", color=color)\n",
    "    fig.show()\n",
    "    \n",
    "\n",
    "cords, labels = make_blobs(n_samples=500, cluster_std=1, centers=[(1,1)], n_features=2, random_state=42)\n",
    "\n",
    "df1 = pd.DataFrame(cords, columns=['x', 'y'])\n",
    "df1['class'] = 'TODO'\n",
    "show_figure(df1)"
   ]
  },
  {
   "cell_type": "markdown",
   "metadata": {},
   "source": [
    "## 1. část - Detekce anomálií pomocí Gaussova rozdělení\n",
    "\n",
    "Detekujte anomálie ve vytvořených datech (`df1`) pomocí Gaussova (normálního) rozdělení. Implementujte jak normální rozdělení, tak vícerozměrné normální rozdělení. (viz přednáška)"
   ]
  },
  {
   "cell_type": "code",
   "execution_count": null,
   "metadata": {},
   "outputs": [],
   "source": []
  },
  {
   "cell_type": "code",
   "execution_count": null,
   "metadata": {
    "scrolled": true
   },
   "outputs": [],
   "source": []
  },
  {
   "cell_type": "markdown",
   "metadata": {},
   "source": [
    "## 2. Část - Detekce anomálií pomocí sklearn knihovny\n",
    "\n",
    "Stáhněte si [NAB Kaggle dataset](https://www.kaggle.com/boltzmannbrain/nab), který obsahuje časové řady. Vyberte si jedno CSV a zobrazte jeho průběh v grafu. Ideálně používejte knihovnu pandas."
   ]
  },
  {
   "cell_type": "code",
   "execution_count": null,
   "metadata": {},
   "outputs": [],
   "source": []
  },
  {
   "cell_type": "markdown",
   "metadata": {},
   "source": [
    "Transformujte datetime do několika položek -> rok, měsíc, den, ..."
   ]
  },
  {
   "cell_type": "code",
   "execution_count": null,
   "metadata": {},
   "outputs": [],
   "source": []
  },
  {
   "cell_type": "markdown",
   "metadata": {},
   "source": [
    "Prozkoumejte možnost detekce anomálií pomocí [sklearn](https://scikit-learn.org/stable/modules/outlier_detection.html) a aplikujte některou z implementovaných metod. Poté zobrazte výsledný graf včetně zvýrazněných anomálií."
   ]
  },
  {
   "cell_type": "code",
   "execution_count": null,
   "metadata": {},
   "outputs": [],
   "source": []
  },
  {
   "cell_type": "markdown",
   "metadata": {},
   "source": [
    "## Bonus - Implementace Local Outlier Factor algoritmu\n",
    "Použijte data z [sklearn příkladu](https://scikit-learn.org/stable/auto_examples/neighbors/plot_lof_outlier_detection.html). Proveďte vlastní implementaci LOF algoritmu a porovnejte výsledek s sklearn."
   ]
  },
  {
   "cell_type": "code",
   "execution_count": null,
   "metadata": {},
   "outputs": [],
   "source": []
  }
 ],
 "metadata": {
  "kernelspec": {
   "display_name": "Python 3",
   "language": "python",
   "name": "python3"
  },
  "language_info": {
   "codemirror_mode": {
    "name": "ipython",
    "version": 3
   },
   "file_extension": ".py",
   "mimetype": "text/x-python",
   "name": "python",
   "nbconvert_exporter": "python",
   "pygments_lexer": "ipython3",
   "version": "3.7.6"
  }
 },
 "nbformat": 4,
 "nbformat_minor": 4
}
