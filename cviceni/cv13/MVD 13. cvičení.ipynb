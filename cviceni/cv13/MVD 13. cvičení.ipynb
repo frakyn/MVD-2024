{
 "cells": [
  {
   "cell_type": "markdown",
   "metadata": {},
   "source": [
    "# MVD 13. cvičení\n",
    "V dnešním cvičení se bude implementovat apriori a FP-Growth algoritmus pro nalezení častých vzorů.\n",
    "\n",
    "### Úkol 1: Generování náhodných transakcí\n",
    "1. Vytvořte Pandas DataFrame obsahující náhodné transakce.\n",
    "    - Položky např.: ['mléko', 'chléb', 'máslo', 'vejce', 'sýr', 'pivo', 'víno', 'chipsy', 'ovoce', 'zelenina', ...]\n",
    "    - Počet transakcí: Náhodně zvolte číslo mezi 50 až 100.\n",
    "    - Počet položek v transakci: Každá transakce by měla obsahovat 2 až 6 náhodných položek.\n",
    "\n",
    "2. Zobrazte prvních 5 transakcí DataFrame."
   ]
  },
  {
   "cell_type": "code",
   "execution_count": 1,
   "metadata": {},
   "outputs": [],
   "source": []
  },
  {
   "cell_type": "markdown",
   "metadata": {},
   "source": [
    "### Úkol 2: Implementace Apriori algoritmu\n",
    "1. Napište funkci `apriori`, která:\n",
    "    - Přijme DataFrame obsahující transakce.\n",
    "    - Najde časté vzory (itemsety) na základě minimálního supportu (např. minsup = 0.5).\n",
    "    - Vrátí seznam častých vzorů a jejich support hodnoty.\n",
    "\n",
    "2. Otestujte funkci na vygenerovaných transakcích."
   ]
  },
  {
   "cell_type": "code",
   "execution_count": null,
   "metadata": {},
   "outputs": [],
   "source": []
  },
  {
   "cell_type": "markdown",
   "metadata": {},
   "source": [
    "### Úkol 3: Implementace FP-Growth algoritmu\n",
    " 1. Použijte knihovnu mlxtend k použití FP-Growth algoritmu.\n",
    " 2. Převádějte DataFrame na vhodný formát pomocí TransactionEncoder.\n",
    " 3. Najděte časté vzory s minimálním supportem (např. minsup = 0.5)."
   ]
  },
  {
   "cell_type": "code",
   "execution_count": null,
   "metadata": {},
   "outputs": [],
   "source": []
  },
  {
   "cell_type": "markdown",
   "metadata": {},
   "source": [
    "### Úkol 4: Porovnání Apriori a FP-Growth\n",
    "1. Porovnejte výsledky obou algoritmů:\n",
    "    - Počet nalezených vzorů.\n",
    "    - Výpočetní čas (měřte pomocí time, zkuste i zvýšit počet transakcí)."
   ]
  },
  {
   "cell_type": "code",
   "execution_count": null,
   "metadata": {},
   "outputs": [],
   "source": []
  }
 ],
 "metadata": {
  "kernelspec": {
   "display_name": "Python 3",
   "language": "python",
   "name": "python3"
  },
  "language_info": {
   "codemirror_mode": {
    "name": "ipython",
    "version": 3
   },
   "file_extension": ".py",
   "mimetype": "text/x-python",
   "name": "python",
   "nbconvert_exporter": "python",
   "pygments_lexer": "ipython3",
   "version": "3.7.6"
  }
 },
 "nbformat": 4,
 "nbformat_minor": 4
}
